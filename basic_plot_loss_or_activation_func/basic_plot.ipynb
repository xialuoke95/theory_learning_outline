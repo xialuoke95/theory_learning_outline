{
 "cells": [
  {
   "cell_type": "code",
   "execution_count": 1,
   "metadata": {},
   "outputs": [],
   "source": [
    "#--- 参考文献\n",
    "#--- 入门：https://blog.csdn.net/dcrmg/article/details/79165976\n",
    "\n",
    "%matplotlib inline\n",
    "import matplotlib.pyplot as plt\n",
    "import numpy as np\n",
    "import pandas as pd\n",
    "from mpl_toolkits.mplot3d import Axes3D\n"
   ]
  },
  {
   "cell_type": "code",
   "execution_count": 2,
   "metadata": {},
   "outputs": [],
   "source": [
    " \n",
    "#--------------------------- 二维数据点\n",
    "p1=[0,1.1,1.8,3.1,4.0]  \n",
    "p2=[2,2.4,4.3,3.5,2.5]\n",
    "\n",
    "#========================== 三维数据点\n",
    "X = [0,1.1,1.8,3.1,4.0]\n",
    "Y = [2,2.4,4.3,3.5,2.5]\n",
    "X, Y = np.meshgrid(X, Y)\n",
    "Z = [2,2.4,4.3,3.5,2.5]\n",
    "\n",
    "X = np.arange(-4, 4, 0.25)\n",
    "Y = np.arange(-4, 4, 0.25)\n",
    "X, Y = np.meshgrid(X, Y)\n",
    "R = np.sqrt(X**2 + Y**2)\n",
    "Z = X*Y\n"
   ]
  },
  {
   "cell_type": "code",
   "execution_count": null,
   "metadata": {},
   "outputs": [],
   "source": []
  },
  {
   "cell_type": "code",
   "execution_count": 3,
   "metadata": {},
   "outputs": [
    {
     "data": {
      "text/plain": [
       "<matplotlib.collections.PathCollection at 0x7fbb7a4636d0>"
      ]
     },
     "execution_count": 3,
     "metadata": {},
     "output_type": "execute_result"
    },
    {
     "data": {
      "image/png": "[encoded data removed]",
      "text/plain": [
       "<Figure size 432x288 with 1 Axes>"
      ]
     },
     "metadata": {},
     "output_type": "display_data"
    }
   ],
   "source": [
    "#-------------------- 折线图\n",
    "plt.figure('Draw') \n",
    "plt.plot(p1, p2)  # plot绘制折线图\n",
    "plt.draw()  # 显示绘图\n",
    "plt.savefig(\"/data00/home/zhangyu.95/easyplot01.pdf\")  #保存图象 \n",
    "# plt.close()\n",
    "\n",
    "#------------------- 散点图\n",
    "plt.scatter(p1,p2)"
   ]
  },
  {
   "cell_type": "code",
   "execution_count": null,
   "metadata": {},
   "outputs": [],
   "source": []
  }
 ],
 "metadata": {
  "kernelspec": {
   "display_name": "Python 2",
   "language": "python",
   "name": "python2"
  },
  "language_info": {
   "codemirror_mode": {
    "name": "ipython",
    "version": 2
   },
   "file_extension": ".py",
   "mimetype": "text/x-python",
   "name": "python",
   "nbconvert_exporter": "python",
   "pygments_lexer": "ipython2",
   "version": "2.7.13"
  }
 },
 "nbformat": 4,
 "nbformat_minor": 2
}
